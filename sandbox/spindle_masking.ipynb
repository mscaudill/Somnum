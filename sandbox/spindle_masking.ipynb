{
 "cells": [
  {
   "cell_type": "markdown",
   "id": "c865290a",
   "metadata": {},
   "source": [
    "# Spindle Masking"
   ]
  },
  {
   "cell_type": "code",
   "execution_count": 1,
   "id": "c1e6d90b",
   "metadata": {},
   "outputs": [],
   "source": [
    "import csv\n",
    "\n",
    "import numpy as np\n",
    "import matplotlib.pyplot as plt\n",
    "import pytest\n",
    "\n",
    "from openseize import producer\n",
    "\n",
    "%matplotlib notebook"
   ]
  },
  {
   "cell_type": "code",
   "execution_count": 33,
   "id": "886b8cc0",
   "metadata": {},
   "outputs": [],
   "source": [
    "# open a csv file and column 1 of each row into a numpy array\n",
    "with open('data/KJ0206_P049_Ch1-2-4_250_Hz_sleep_states.csv') as infile:\n",
    "    reader = csv.reader(infile, delimiter=',')\n",
    "    spindle = np.array([row[1] for row in reader])"
   ]
  },
  {
   "cell_type": "code",
   "execution_count": 34,
   "id": "f35a655b",
   "metadata": {},
   "outputs": [
    {
     "name": "stdout",
     "output_type": "stream",
     "text": [
      "spindle contains ['n' 'r' 'w'] states and has length 67533\n"
     ]
    }
   ],
   "source": [
    "# print the unique states and the number of 1-s windows SPINDLE predicted on\n",
    "print('spindle contains {} states and has length {}'.format(np.unique(spindle), len(spindle)))"
   ]
  },
  {
   "cell_type": "code",
   "execution_count": 35,
   "id": "fd7993b9",
   "metadata": {},
   "outputs": [
    {
     "data": {
      "text/plain": [
       "array(['w', 'w', 'w', ..., 'w', 'w', 'w'], dtype='<U1')"
      ]
     },
     "execution_count": 35,
     "metadata": {},
     "output_type": "execute_result"
    }
   ],
   "source": [
    "spindle"
   ]
  },
  {
   "cell_type": "code",
   "execution_count": 4,
   "id": "e826cfbd",
   "metadata": {},
   "outputs": [
    {
     "name": "stdout",
     "output_type": "stream",
     "text": [
      "[ 3082  3083  3084 ... 67484 67485 67486]\n"
     ]
    }
   ],
   "source": [
    "# Build a boolean the same length as the spindle array but True only where rem is occurring\n",
    "rem_bool = spindle == 'r'\n",
    "rem_idxs = np.flatnonzero(spindle=='r')\n",
    "print(rem_idxs)"
   ]
  },
  {
   "cell_type": "code",
   "execution_count": 5,
   "id": "679be15a",
   "metadata": {},
   "outputs": [
    {
     "name": "stdout",
     "output_type": "stream",
     "text": [
      "[  210   211   212 ... 67519 67520 67521]\n"
     ]
    }
   ],
   "source": [
    "# Build a boolean the same length as the spindle array but True only where non-rem is occurring\n",
    "nrem_bool = spindle == 'n'\n",
    "nrem_idxs = np.flatnonzero(nrem_bool)\n",
    "print(nrem_idxs)"
   ]
  },
  {
   "cell_type": "code",
   "execution_count": 6,
   "id": "b87f0274",
   "metadata": {},
   "outputs": [
    {
     "name": "stdout",
     "output_type": "stream",
     "text": [
      "[[ 3200  3205]\n",
      " [ 5160  5168]\n",
      " [ 5348  5356]\n",
      " [ 6088  6105]\n",
      " [ 7047  7080]\n",
      " [ 7188  7195]\n",
      " [ 7287  7304]\n",
      " [ 7700  7710]\n",
      " [ 7783  7800]\n",
      " [12400 12426]\n",
      " [12749 12769]\n",
      " [13000 13006]\n",
      " [14107 14113]\n",
      " [14336 14373]\n",
      " [14500 14529]\n",
      " [14879 14898]\n",
      " [17847 17868]\n",
      " [18060 18070]\n",
      " [18852 18866]]\n"
     ]
    }
   ],
   "source": [
    "# Here is the important bit...\n",
    "# use diff to locate where mouse enters and leaves rem\n",
    "# these sections will be used place Trues into a boolean mask\n",
    "rem_sections = np.flatnonzero(np.diff(rem_bool)).reshape(-1,2) + 1\n",
    "print(rem_sections[1:20])"
   ]
  },
  {
   "cell_type": "code",
   "execution_count": 7,
   "id": "b75c993c",
   "metadata": {},
   "outputs": [
    {
     "name": "stdout",
     "output_type": "stream",
     "text": [
      "[[  210   214]\n",
      " [  216   229]\n",
      " [  233   239]\n",
      " ...\n",
      " [67495 67496]\n",
      " [67503 67517]\n",
      " [67519 67522]]\n"
     ]
    }
   ],
   "source": [
    "# again build sections for non-rem\n",
    "nrem_sections = np.flatnonzero(np.diff(nrem_bool)).reshape(-1,2) + 1\n",
    "print(nrem_sections)"
   ]
  },
  {
   "cell_type": "markdown",
   "id": "ac479aa5",
   "metadata": {},
   "source": [
    "**IMPORTANT We have assumed that the mouse always enters and leaves a sleep state, that is, we have assumed an even number of transitions (2 for every time the animal enters/leaves a specific state). This is wrong if the animal starts or ends in the sleep state.**\n"
   ]
  },
  {
   "cell_type": "code",
   "execution_count": 17,
   "id": "31d99075",
   "metadata": {},
   "outputs": [],
   "source": [
    "def spindle_array(fname, column=1, **kwargs):\n",
    "    \"\"\"Reads a SPINDLE sleep classification file to a 1-D numpy array.\n",
    "    \n",
    "    Args:\n",
    "        fname: str\n",
    "            A string filename or Path instance to a SPINDLE csv file.\n",
    "        column: int\n",
    "            The column containing the sleep class.\n",
    "        kwargs:\n",
    "            Any valid keyword argument for pythons csv reader builtin.\n",
    "            \n",
    "    Returns:\n",
    "        A 1-D array containing state identifiers.\n",
    "    \"\"\"\n",
    "    \n",
    "    with open(fname, 'r', newline='') as infile:\n",
    "        reader = csv.reader(infile, **kwargs)\n",
    "        spindle = np.array([row[column] for row in reader])\n",
    "    \n",
    "    return spindle"
   ]
  },
  {
   "cell_type": "code",
   "execution_count": 36,
   "id": "4ae928e8",
   "metadata": {},
   "outputs": [],
   "source": [
    "def spindle_mask(arr, states, fs, unit=1):\n",
    "    \"\"\"Reads a spindle file into a 1-D numpy boolean array for masking a producer.\n",
    "    \n",
    "    Args:\n",
    "        arr: 1-D array\n",
    "            An array containing the spindle classes.\n",
    "        states: sequence\n",
    "            A list of states in the spindle file that survive the mask.\n",
    "        fs: int\n",
    "            The sampling rate of the recording.\n",
    "        unit: float\n",
    "            The time difference in seconds between successive rows in the spindle file.\n",
    "            Defaults to 1 second time intervals.\n",
    "            \n",
    "    Returns:\n",
    "        A 1-D boolean array delineating which samples will be masked.\n",
    "    \"\"\"\n",
    "    \n",
    "    # compute which windows of unit length are True in the mask\n",
    "    window_submask = [arr == state for state in states]\n",
    "    window_mask = np.logical_or.reduce(window_submask)\n",
    "    \n",
    "    # set first & last window to False ensuring number of transistions is always even\n",
    "    window_mask[0] = False\n",
    "    window_mask[-1] = False\n",
    "    \n",
    "    # compute transitions and pair them along new axis\n",
    "    transitions = np.diff(window_mask)\n",
    "    sections = np.flatnonzero(transitions).reshape(-1,2) + 1\n",
    "    \n",
    "    # build a sample mask\n",
    "    mask = np.zeros((len(arr)*fs*unit))\n",
    "    for section in sections:\n",
    "        samples = section * fs * unit\n",
    "        mask[slice(*samples)] = True\n",
    "    \n",
    "    return sections, mask"
   ]
  },
  {
   "cell_type": "code",
   "execution_count": 37,
   "id": "ebdaec5e",
   "metadata": {},
   "outputs": [
    {
     "name": "stdout",
     "output_type": "stream",
     "text": [
      "[[ 210  214]\n",
      " [ 216  229]\n",
      " [ 233  239]\n",
      " [ 241  301]\n",
      " [ 314  320]\n",
      " [ 321  353]\n",
      " [ 356  390]\n",
      " [ 396  406]\n",
      " [ 409  423]\n",
      " [ 428  431]\n",
      " [ 437  482]\n",
      " [ 492  494]\n",
      " [ 495  503]\n",
      " [ 508  538]\n",
      " [ 540  555]\n",
      " [1322 1458]\n",
      " [1460 1463]\n",
      " [1464 1465]\n",
      " [1471 1497]\n",
      " [1499 1569]]\n"
     ]
    }
   ],
   "source": [
    "# read spindle to an array of classes\n",
    "fname = 'data/KJ0206_P049_Ch1-2-4_250_Hz_sleep_states.csv'\n",
    "arr = spindle_array(fname, delimiter=',')\n",
    "\n",
    "# build a mask\n",
    "sections, mask = spindle_mask(arr, states=['n','r'], fs=250, unit=4)\n",
    "print(sections[0:20])"
   ]
  },
  {
   "cell_type": "code",
   "execution_count": 38,
   "id": "22b4c1c1",
   "metadata": {},
   "outputs": [
    {
     "name": "stdout",
     "output_type": "stream",
     "text": [
      "[  210000   210001   210002 ... 67521997 67521998 67521999]\n"
     ]
    }
   ],
   "source": [
    "print(np.flatnonzero(mask))"
   ]
  },
  {
   "cell_type": "code",
   "execution_count": 28,
   "id": "21816c8a",
   "metadata": {},
   "outputs": [],
   "source": [
    "# testing\n",
    "\n",
    "arr = np.array(['w']*100)\n",
    "\n",
    "# add a set of arbitrary states to arr\n",
    "states = [('r', slice(11,16)), ('r', slice(30, 44)), ('n', slice(66, 67)), ('n', slice(90, 94))]\n",
    "for state, sl in states:\n",
    "    arr[sl] = state"
   ]
  },
  {
   "cell_type": "code",
   "execution_count": 29,
   "id": "2a1e6d6d",
   "metadata": {},
   "outputs": [
    {
     "data": {
      "text/plain": [
       "array(['w', 'w', 'w', 'w', 'w', 'w', 'w', 'w', 'w', 'w', 'w', 'r', 'r',\n",
       "       'r', 'r', 'r', 'w', 'w', 'w', 'w', 'w', 'w', 'w', 'w', 'w', 'w',\n",
       "       'w', 'w', 'w', 'w', 'r', 'r', 'r', 'r', 'r', 'r', 'r', 'r', 'r',\n",
       "       'r', 'r', 'r', 'r', 'r', 'w', 'w', 'w', 'w', 'w', 'w', 'w', 'w',\n",
       "       'w', 'w', 'w', 'w', 'w', 'w', 'w', 'w', 'w', 'w', 'w', 'w', 'w',\n",
       "       'w', 'n', 'w', 'w', 'w', 'w', 'w', 'w', 'w', 'w', 'w', 'w', 'w',\n",
       "       'w', 'w', 'w', 'w', 'w', 'w', 'w', 'w', 'w', 'w', 'w', 'w', 'n',\n",
       "       'n', 'n', 'n', 'w', 'w', 'w', 'w', 'w', 'w'], dtype='<U1')"
      ]
     },
     "execution_count": 29,
     "metadata": {},
     "output_type": "execute_result"
    }
   ],
   "source": [
    "arr"
   ]
  },
  {
   "cell_type": "code",
   "execution_count": 30,
   "id": "62b134b4",
   "metadata": {},
   "outputs": [],
   "source": [
    "sections, mask = spindle_mask(arr, states=['r'], fs=1)"
   ]
  },
  {
   "cell_type": "code",
   "execution_count": 31,
   "id": "a2e898ca",
   "metadata": {},
   "outputs": [
    {
     "data": {
      "text/plain": [
       "array([[11, 16],\n",
       "       [30, 44]])"
      ]
     },
     "execution_count": 31,
     "metadata": {},
     "output_type": "execute_result"
    }
   ],
   "source": [
    "sections"
   ]
  },
  {
   "cell_type": "code",
   "execution_count": 32,
   "id": "9c249c60",
   "metadata": {},
   "outputs": [
    {
     "data": {
      "text/plain": [
       "array([0., 0., 0., 0., 0., 0., 0., 0., 0., 0., 0., 1., 1., 1., 1., 1., 0.,\n",
       "       0., 0., 0., 0., 0., 0., 0., 0., 0., 0., 0., 0., 0., 1., 1., 1., 1.,\n",
       "       1., 1., 1., 1., 1., 1., 1., 1., 1., 1., 0., 0., 0., 0., 0., 0., 0.,\n",
       "       0., 0., 0., 0., 0., 0., 0., 0., 0., 0., 0., 0., 0., 0., 0., 0., 0.,\n",
       "       0., 0., 0., 0., 0., 0., 0., 0., 0., 0., 0., 0., 0., 0., 0., 0., 0.,\n",
       "       0., 0., 0., 0., 0., 0., 0., 0., 0., 0., 0., 0., 0., 0., 0.])"
      ]
     },
     "execution_count": 32,
     "metadata": {},
     "output_type": "execute_result"
    }
   ],
   "source": [
    "mask"
   ]
  },
  {
   "cell_type": "code",
   "execution_count": null,
   "id": "c117e119",
   "metadata": {},
   "outputs": [],
   "source": []
  }
 ],
 "metadata": {
  "kernelspec": {
   "display_name": "Python 3 (ipykernel)",
   "language": "python",
   "name": "python3"
  },
  "language_info": {
   "codemirror_mode": {
    "name": "ipython",
    "version": 3
   },
   "file_extension": ".py",
   "mimetype": "text/x-python",
   "name": "python",
   "nbconvert_exporter": "python",
   "pygments_lexer": "ipython3",
   "version": "3.10.9"
  }
 },
 "nbformat": 4,
 "nbformat_minor": 5
}
